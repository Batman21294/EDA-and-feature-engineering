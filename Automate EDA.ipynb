{
 "cells": [
  {
   "cell_type": "code",
   "execution_count": 1,
   "metadata": {},
   "outputs": [
    {
     "name": "stdout",
     "output_type": "stream",
     "text": [
      "Collecting https://github.com/pandas-profiling/pandas-profiling/archive/master.zip\n",
      "  Downloading https://github.com/pandas-profiling/pandas-profiling/archive/master.zip\n",
      "Requirement already satisfied: scipy<1.10,>=1.4.1 in c:\\users\\deepj\\anaconda3\\lib\\site-packages (from ydata-profiling==0.0.dev0) (1.5.2)\n",
      "Requirement already satisfied: pandas!=1.4.0,<1.6,>1.1 in c:\\users\\deepj\\anaconda3\\lib\\site-packages (from ydata-profiling==0.0.dev0) (1.5.3)\n",
      "Requirement already satisfied: matplotlib<3.7,>=3.2 in c:\\users\\deepj\\anaconda3\\lib\\site-packages (from ydata-profiling==0.0.dev0) (3.2.2)\n",
      "Requirement already satisfied: pydantic<1.11,>=1.8.1 in c:\\users\\deepj\\anaconda3\\lib\\site-packages (from ydata-profiling==0.0.dev0) (1.9.0)\n",
      "Requirement already satisfied: PyYAML<6.1,>=5.0.0 in c:\\users\\deepj\\anaconda3\\lib\\site-packages (from ydata-profiling==0.0.dev0) (5.3.1)\n",
      "Requirement already satisfied: jinja2<3.2,>=2.11.1 in c:\\users\\deepj\\anaconda3\\lib\\site-packages (from ydata-profiling==0.0.dev0) (2.11.2)\n",
      "Collecting visions[type_image_path]==0.7.5\n",
      "  Using cached visions-0.7.5-py3-none-any.whl (102 kB)\n",
      "Requirement already satisfied: numpy<1.24,>=1.16.0 in c:\\users\\deepj\\anaconda3\\lib\\site-packages (from ydata-profiling==0.0.dev0) (1.20.3)\n",
      "Requirement already satisfied: htmlmin==0.1.12 in c:\\users\\deepj\\anaconda3\\lib\\site-packages (from ydata-profiling==0.0.dev0) (0.1.12)\n",
      "Requirement already satisfied: phik<0.13,>=0.11.1 in c:\\users\\deepj\\anaconda3\\lib\\site-packages (from ydata-profiling==0.0.dev0) (0.12.2)\n",
      "Requirement already satisfied: requests<2.29,>=2.24.0 in c:\\users\\deepj\\anaconda3\\lib\\site-packages (from ydata-profiling==0.0.dev0) (2.24.0)\n",
      "Requirement already satisfied: tqdm<4.65,>=4.48.2 in c:\\users\\deepj\\anaconda3\\lib\\site-packages (from ydata-profiling==0.0.dev0) (4.63.0)\n",
      "Requirement already satisfied: seaborn<0.13,>=0.10.1 in c:\\users\\deepj\\anaconda3\\lib\\site-packages (from ydata-profiling==0.0.dev0) (0.10.1)\n",
      "Requirement already satisfied: multimethod<1.10,>=1.4 in c:\\users\\deepj\\anaconda3\\lib\\site-packages (from ydata-profiling==0.0.dev0) (1.7)\n",
      "Requirement already satisfied: statsmodels<0.14,>=0.13.2 in c:\\users\\deepj\\anaconda3\\lib\\site-packages (from ydata-profiling==0.0.dev0) (0.13.5)\n",
      "Requirement already satisfied: typeguard<2.14,>=2.13.2 in c:\\users\\deepj\\anaconda3\\lib\\site-packages (from ydata-profiling==0.0.dev0) (2.13.3)\n",
      "Requirement already satisfied: python-dateutil>=2.8.1 in c:\\users\\deepj\\anaconda3\\lib\\site-packages (from pandas!=1.4.0,<1.6,>1.1->ydata-profiling==0.0.dev0) (2.8.1)\n",
      "Requirement already satisfied: pytz>=2020.1 in c:\\users\\deepj\\anaconda3\\lib\\site-packages (from pandas!=1.4.0,<1.6,>1.1->ydata-profiling==0.0.dev0) (2020.1)\n",
      "Requirement already satisfied: pyparsing!=2.0.4,!=2.1.2,!=2.1.6,>=2.0.1 in c:\\users\\deepj\\anaconda3\\lib\\site-packages (from matplotlib<3.7,>=3.2->ydata-profiling==0.0.dev0) (2.4.7)\n",
      "Requirement already satisfied: cycler>=0.10 in c:\\users\\deepj\\anaconda3\\lib\\site-packages (from matplotlib<3.7,>=3.2->ydata-profiling==0.0.dev0) (0.10.0)\n",
      "Requirement already satisfied: kiwisolver>=1.0.1 in c:\\users\\deepj\\anaconda3\\lib\\site-packages (from matplotlib<3.7,>=3.2->ydata-profiling==0.0.dev0) (1.2.0)\n",
      "Requirement already satisfied: typing-extensions>=3.7.4.3 in c:\\users\\deepj\\anaconda3\\lib\\site-packages (from pydantic<1.11,>=1.8.1->ydata-profiling==0.0.dev0) (4.1.1)\n",
      "Requirement already satisfied: MarkupSafe>=0.23 in c:\\users\\deepj\\anaconda3\\lib\\site-packages (from jinja2<3.2,>=2.11.1->ydata-profiling==0.0.dev0) (2.0.1)\n",
      "Requirement already satisfied: tangled-up-in-unicode>=0.0.4 in c:\\users\\deepj\\anaconda3\\lib\\site-packages (from visions[type_image_path]==0.7.5->ydata-profiling==0.0.dev0) (0.1.0)\n",
      "Requirement already satisfied: networkx>=2.4 in c:\\users\\deepj\\anaconda3\\lib\\site-packages (from visions[type_image_path]==0.7.5->ydata-profiling==0.0.dev0) (2.4)\n",
      "Requirement already satisfied: attrs>=19.3.0 in c:\\users\\deepj\\anaconda3\\lib\\site-packages (from visions[type_image_path]==0.7.5->ydata-profiling==0.0.dev0) (19.3.0)\n",
      "Requirement already satisfied: imagehash; extra == \"type_image_path\" in c:\\users\\deepj\\anaconda3\\lib\\site-packages (from visions[type_image_path]==0.7.5->ydata-profiling==0.0.dev0) (4.2.1)\n",
      "Requirement already satisfied: Pillow; extra == \"type_image_path\" in c:\\users\\deepj\\anaconda3\\lib\\site-packages (from visions[type_image_path]==0.7.5->ydata-profiling==0.0.dev0) (7.2.0)\n",
      "Requirement already satisfied: joblib>=0.14.1 in c:\\users\\deepj\\anaconda3\\lib\\site-packages (from phik<0.13,>=0.11.1->ydata-profiling==0.0.dev0) (1.0.1)\n",
      "Requirement already satisfied: certifi>=2017.4.17 in c:\\users\\deepj\\anaconda3\\lib\\site-packages (from requests<2.29,>=2.24.0->ydata-profiling==0.0.dev0) (2020.6.20)\n",
      "Requirement already satisfied: chardet<4,>=3.0.2 in c:\\users\\deepj\\anaconda3\\lib\\site-packages (from requests<2.29,>=2.24.0->ydata-profiling==0.0.dev0) (3.0.4)\n",
      "Requirement already satisfied: urllib3!=1.25.0,!=1.25.1,<1.26,>=1.21.1 in c:\\users\\deepj\\anaconda3\\lib\\site-packages (from requests<2.29,>=2.24.0->ydata-profiling==0.0.dev0) (1.25.9)\n",
      "Requirement already satisfied: idna<3,>=2.5 in c:\\users\\deepj\\anaconda3\\lib\\site-packages (from requests<2.29,>=2.24.0->ydata-profiling==0.0.dev0) (2.10)\n",
      "Requirement already satisfied: colorama; platform_system == \"Windows\" in c:\\users\\deepj\\anaconda3\\lib\\site-packages (from tqdm<4.65,>=4.48.2->ydata-profiling==0.0.dev0) (0.4.3)\n",
      "Requirement already satisfied: patsy>=0.5.2 in c:\\users\\deepj\\anaconda3\\lib\\site-packages (from statsmodels<0.14,>=0.13.2->ydata-profiling==0.0.dev0) (0.5.3)\n",
      "Requirement already satisfied: packaging>=21.3 in c:\\users\\deepj\\anaconda3\\lib\\site-packages (from statsmodels<0.14,>=0.13.2->ydata-profiling==0.0.dev0) (23.0)\n",
      "Requirement already satisfied: six>=1.5 in c:\\users\\deepj\\anaconda3\\lib\\site-packages (from python-dateutil>=2.8.1->pandas!=1.4.0,<1.6,>1.1->ydata-profiling==0.0.dev0) (1.15.0)\n",
      "Requirement already satisfied: decorator>=4.3.0 in c:\\users\\deepj\\anaconda3\\lib\\site-packages (from networkx>=2.4->visions[type_image_path]==0.7.5->ydata-profiling==0.0.dev0) (4.4.2)\n",
      "Requirement already satisfied: PyWavelets in c:\\users\\deepj\\anaconda3\\lib\\site-packages (from imagehash; extra == \"type_image_path\"->visions[type_image_path]==0.7.5->ydata-profiling==0.0.dev0) (1.1.1)\n",
      "Building wheels for collected packages: ydata-profiling\n",
      "  Building wheel for ydata-profiling (setup.py): started\n",
      "  Building wheel for ydata-profiling (setup.py): finished with status 'done'\n",
      "  Created wheel for ydata-profiling: filename=ydata_profiling-0.0.dev0-py2.py3-none-any.whl size=344571 sha256=0bb8b82af08ce6b25b66f44efeb73ddd320a8921153fe9a77d150bc9dd2f5d05\n",
      "  Stored in directory: C:\\Users\\deepj\\AppData\\Local\\Temp\\pip-ephem-wheel-cache-yv9jw_yf\\wheels\\64\\b6\\85\\dfc808b23666a5910371784e349d28818006ff63ed9cfeca59\n",
      "Successfully built ydata-profiling\n",
      "Installing collected packages: visions, ydata-profiling\n",
      "  Attempting uninstall: visions\n",
      "    Found existing installation: visions 0.7.4\n",
      "    Uninstalling visions-0.7.4:\n",
      "      Successfully uninstalled visions-0.7.4\n",
      "Successfully installed visions-0.7.5 ydata-profiling-0.0.dev0\n"
     ]
    },
    {
     "name": "stderr",
     "output_type": "stream",
     "text": [
      "ERROR: pandas-profiling 3.1.0 has requirement visions[type_image_path]==0.7.4, but you'll have visions 0.7.5 which is incompatible.\n"
     ]
    }
   ],
   "source": [
    "!pip install https://github.com/pandas-profiling/pandas-profiling/archive/master.zip"
   ]
  },
  {
   "cell_type": "code",
   "execution_count": 1,
   "metadata": {},
   "outputs": [
    {
     "name": "stderr",
     "output_type": "stream",
     "text": [
      "<ipython-input-1-e2a33329b6f0>:1: DeprecationWarning: `import pandas_profiling` is going to be deprecated by April 1st. Please use `import ydata_profiling` instead.\n",
      "  from pandas_profiling import ProfileReport\n"
     ]
    }
   ],
   "source": [
    "from pandas_profiling import ProfileReport"
   ]
  },
  {
   "cell_type": "code",
   "execution_count": 2,
   "metadata": {},
   "outputs": [],
   "source": [
    "import pandas_profiling\n",
    "import seaborn as sns"
   ]
  },
  {
   "cell_type": "code",
   "execution_count": 12,
   "metadata": {},
   "outputs": [
    {
     "data": {
      "text/html": [
       "<div>\n",
       "<style scoped>\n",
       "    .dataframe tbody tr th:only-of-type {\n",
       "        vertical-align: middle;\n",
       "    }\n",
       "\n",
       "    .dataframe tbody tr th {\n",
       "        vertical-align: top;\n",
       "    }\n",
       "\n",
       "    .dataframe thead th {\n",
       "        text-align: right;\n",
       "    }\n",
       "</style>\n",
       "<table border=\"1\" class=\"dataframe\">\n",
       "  <thead>\n",
       "    <tr style=\"text-align: right;\">\n",
       "      <th></th>\n",
       "      <th>total_bill</th>\n",
       "      <th>tip</th>\n",
       "      <th>sex</th>\n",
       "      <th>smoker</th>\n",
       "      <th>day</th>\n",
       "      <th>time</th>\n",
       "      <th>size</th>\n",
       "    </tr>\n",
       "  </thead>\n",
       "  <tbody>\n",
       "    <tr>\n",
       "      <th>0</th>\n",
       "      <td>16.99</td>\n",
       "      <td>1.01</td>\n",
       "      <td>Female</td>\n",
       "      <td>No</td>\n",
       "      <td>Sun</td>\n",
       "      <td>Dinner</td>\n",
       "      <td>2</td>\n",
       "    </tr>\n",
       "    <tr>\n",
       "      <th>1</th>\n",
       "      <td>10.34</td>\n",
       "      <td>1.66</td>\n",
       "      <td>Male</td>\n",
       "      <td>No</td>\n",
       "      <td>Sun</td>\n",
       "      <td>Dinner</td>\n",
       "      <td>3</td>\n",
       "    </tr>\n",
       "    <tr>\n",
       "      <th>2</th>\n",
       "      <td>21.01</td>\n",
       "      <td>3.50</td>\n",
       "      <td>Male</td>\n",
       "      <td>No</td>\n",
       "      <td>Sun</td>\n",
       "      <td>Dinner</td>\n",
       "      <td>3</td>\n",
       "    </tr>\n",
       "    <tr>\n",
       "      <th>3</th>\n",
       "      <td>23.68</td>\n",
       "      <td>3.31</td>\n",
       "      <td>Male</td>\n",
       "      <td>No</td>\n",
       "      <td>Sun</td>\n",
       "      <td>Dinner</td>\n",
       "      <td>2</td>\n",
       "    </tr>\n",
       "    <tr>\n",
       "      <th>4</th>\n",
       "      <td>24.59</td>\n",
       "      <td>3.61</td>\n",
       "      <td>Female</td>\n",
       "      <td>No</td>\n",
       "      <td>Sun</td>\n",
       "      <td>Dinner</td>\n",
       "      <td>4</td>\n",
       "    </tr>\n",
       "    <tr>\n",
       "      <th>...</th>\n",
       "      <td>...</td>\n",
       "      <td>...</td>\n",
       "      <td>...</td>\n",
       "      <td>...</td>\n",
       "      <td>...</td>\n",
       "      <td>...</td>\n",
       "      <td>...</td>\n",
       "    </tr>\n",
       "    <tr>\n",
       "      <th>239</th>\n",
       "      <td>29.03</td>\n",
       "      <td>5.92</td>\n",
       "      <td>Male</td>\n",
       "      <td>No</td>\n",
       "      <td>Sat</td>\n",
       "      <td>Dinner</td>\n",
       "      <td>3</td>\n",
       "    </tr>\n",
       "    <tr>\n",
       "      <th>240</th>\n",
       "      <td>27.18</td>\n",
       "      <td>2.00</td>\n",
       "      <td>Female</td>\n",
       "      <td>Yes</td>\n",
       "      <td>Sat</td>\n",
       "      <td>Dinner</td>\n",
       "      <td>2</td>\n",
       "    </tr>\n",
       "    <tr>\n",
       "      <th>241</th>\n",
       "      <td>22.67</td>\n",
       "      <td>2.00</td>\n",
       "      <td>Male</td>\n",
       "      <td>Yes</td>\n",
       "      <td>Sat</td>\n",
       "      <td>Dinner</td>\n",
       "      <td>2</td>\n",
       "    </tr>\n",
       "    <tr>\n",
       "      <th>242</th>\n",
       "      <td>17.82</td>\n",
       "      <td>1.75</td>\n",
       "      <td>Male</td>\n",
       "      <td>No</td>\n",
       "      <td>Sat</td>\n",
       "      <td>Dinner</td>\n",
       "      <td>2</td>\n",
       "    </tr>\n",
       "    <tr>\n",
       "      <th>243</th>\n",
       "      <td>18.78</td>\n",
       "      <td>3.00</td>\n",
       "      <td>Female</td>\n",
       "      <td>No</td>\n",
       "      <td>Thur</td>\n",
       "      <td>Dinner</td>\n",
       "      <td>2</td>\n",
       "    </tr>\n",
       "  </tbody>\n",
       "</table>\n",
       "<p>244 rows × 7 columns</p>\n",
       "</div>"
      ],
      "text/plain": [
       "     total_bill   tip     sex smoker   day    time  size\n",
       "0         16.99  1.01  Female     No   Sun  Dinner     2\n",
       "1         10.34  1.66    Male     No   Sun  Dinner     3\n",
       "2         21.01  3.50    Male     No   Sun  Dinner     3\n",
       "3         23.68  3.31    Male     No   Sun  Dinner     2\n",
       "4         24.59  3.61  Female     No   Sun  Dinner     4\n",
       "..          ...   ...     ...    ...   ...     ...   ...\n",
       "239       29.03  5.92    Male     No   Sat  Dinner     3\n",
       "240       27.18  2.00  Female    Yes   Sat  Dinner     2\n",
       "241       22.67  2.00    Male    Yes   Sat  Dinner     2\n",
       "242       17.82  1.75    Male     No   Sat  Dinner     2\n",
       "243       18.78  3.00  Female     No  Thur  Dinner     2\n",
       "\n",
       "[244 rows x 7 columns]"
      ]
     },
     "execution_count": 12,
     "metadata": {},
     "output_type": "execute_result"
    }
   ],
   "source": [
    "df = sns.load_dataset('tips')\n",
    "df"
   ]
  },
  {
   "cell_type": "code",
   "execution_count": 13,
   "metadata": {},
   "outputs": [],
   "source": [
    "profile = ProfileReport(df, explorative=True,dark_mode=True)"
   ]
  },
  {
   "cell_type": "code",
   "execution_count": 14,
   "metadata": {},
   "outputs": [
    {
     "data": {
      "application/vnd.jupyter.widget-view+json": {
       "model_id": "fe46883b597548a3ae93545229acc194",
       "version_major": 2,
       "version_minor": 0
      },
      "text/plain": [
       "Summarize dataset:   0%|          | 0/5 [00:00<?, ?it/s]"
      ]
     },
     "metadata": {},
     "output_type": "display_data"
    },
    {
     "data": {
      "application/vnd.jupyter.widget-view+json": {
       "model_id": "1f37c3a366894420bf24950d851e9b16",
       "version_major": 2,
       "version_minor": 0
      },
      "text/plain": [
       "Generate report structure:   0%|          | 0/1 [00:00<?, ?it/s]"
      ]
     },
     "metadata": {},
     "output_type": "display_data"
    },
    {
     "data": {
      "application/vnd.jupyter.widget-view+json": {
       "model_id": "3c4fb06c59a247c68c018dbfb5181b7e",
       "version_major": 2,
       "version_minor": 0
      },
      "text/plain": [
       "Render HTML:   0%|          | 0/1 [00:00<?, ?it/s]"
      ]
     },
     "metadata": {},
     "output_type": "display_data"
    },
    {
     "data": {
      "application/vnd.jupyter.widget-view+json": {
       "model_id": "25d0e82d62a14423be6973d31538fef2",
       "version_major": 2,
       "version_minor": 0
      },
      "text/plain": [
       "Export report to file:   0%|          | 0/1 [00:00<?, ?it/s]"
      ]
     },
     "metadata": {},
     "output_type": "display_data"
    }
   ],
   "source": [
    "profile.to_file('output.html')"
   ]
  },
  {
   "cell_type": "code",
   "execution_count": 15,
   "metadata": {},
   "outputs": [
    {
     "name": "stderr",
     "output_type": "stream",
     "text": [
      "C:\\Users\\deepj\\Anaconda3\\lib\\site-packages\\dtale\\views.py:746: FutureWarning:\n",
      "\n",
      "['sex', 'smoker', 'day', 'time'] did not aggregate successfully. If any error is raised this will raise in a future version of pandas. Drop these columns/ops to avoid this warning.\n",
      "\n"
     ]
    },
    {
     "data": {
      "text/html": [
       "\n",
       "        <iframe\n",
       "            width=\"100%\"\n",
       "            height=\"475\"\n",
       "            src=\"http://LAPTOP-V6PRAACV:40000/dtale/iframe/2\"\n",
       "            frameborder=\"0\"\n",
       "            allowfullscreen\n",
       "        ></iframe>\n",
       "        "
      ],
      "text/plain": [
       "<IPython.lib.display.IFrame at 0x1a8a0173f10>"
      ]
     },
     "metadata": {},
     "output_type": "display_data"
    },
    {
     "data": {
      "text/plain": []
     },
     "execution_count": 15,
     "metadata": {},
     "output_type": "execute_result"
    },
    {
     "name": "stderr",
     "output_type": "stream",
     "text": [
      "C:\\Users\\deepj\\Anaconda3\\lib\\site-packages\\dtale\\data_reshapers.py:63: FutureWarning:\n",
      "\n",
      "pivot_table dropped a column because it failed to aggregate. This behavior is deprecated and will raise in a future version of pandas. Select only the columns that can be aggregated.\n",
      "\n"
     ]
    },
    {
     "name": "stdout",
     "output_type": "stream",
     "text": [
      "Executing shutdown due to inactivity...\n"
     ]
    },
    {
     "name": "stderr",
     "output_type": "stream",
     "text": [
      "2023-01-31 23:39:16,204 - INFO     - Executing shutdown due to inactivity...\n"
     ]
    },
    {
     "name": "stdout",
     "output_type": "stream",
     "text": [
      "Executing shutdown...\n"
     ]
    },
    {
     "name": "stderr",
     "output_type": "stream",
     "text": [
      "2023-01-31 23:39:20,408 - INFO     - Executing shutdown...\n"
     ]
    }
   ],
   "source": [
    "import dtale\n",
    "dtale.show(df)"
   ]
  },
  {
   "cell_type": "code",
   "execution_count": null,
   "metadata": {},
   "outputs": [],
   "source": []
  },
  {
   "cell_type": "code",
   "execution_count": null,
   "metadata": {},
   "outputs": [],
   "source": []
  }
 ],
 "metadata": {
  "kernelspec": {
   "display_name": "Python 3",
   "language": "python",
   "name": "python3"
  },
  "language_info": {
   "codemirror_mode": {
    "name": "ipython",
    "version": 3
   },
   "file_extension": ".py",
   "mimetype": "text/x-python",
   "name": "python",
   "nbconvert_exporter": "python",
   "pygments_lexer": "ipython3",
   "version": "3.8.3"
  }
 },
 "nbformat": 4,
 "nbformat_minor": 4
}
